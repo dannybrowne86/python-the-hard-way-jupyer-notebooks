{
 "cells": [
  {
   "cell_type": "code",
   "execution_count": 89,
   "metadata": {
    "collapsed": true
   },
   "outputs": [],
   "source": [
    "# converting orbital elements into r and v, and vice versa"
   ]
  },
  {
   "cell_type": "code",
   "execution_count": 90,
   "metadata": {
    "collapsed": true
   },
   "outputs": [],
   "source": [
    "# -*- coding: utf-8 -*-\n",
    "import numpy as np\n",
    "import scipy as sp"
   ]
  },
  {
   "cell_type": "code",
   "execution_count": 91,
   "metadata": {
    "collapsed": false
   },
   "outputs": [],
   "source": [
    "def convert_r_v(r, v): # converts position and velocity vectors, r and v, into orbital elements\n",
    "    unit_i = np.array([1, 0, 0])\n",
    "    unit_j = np.array([0, 1, 0])\n",
    "    unit_k = np.array([0, 0, 1])\n",
    "    mag_r = np.linalg.norm(r)\n",
    "    mag_v = np.linalg.norm(v)\n",
    "    mu = 1\n",
    "    h = np.cross(r, v)\n",
    "    n = np.cross(unit_k, h)\n",
    "    mag_n = np.linalg.norm(n)\n",
    "    mag_h = np.linalg.norm(h)\n",
    "    p = mag_h**2\n",
    "    e = (1 / mu) * (((mag_v**2 - (mu / mag_r)) * r) - (np.dot(r, v) * v))\n",
    "    mag_e = np.linalg.norm(e)\n",
    "    i = np.arccos((np.dot(h, unit_k)) / mag_h) * (180 / np.pi)\n",
    "    if mag_n == 0:\n",
    "        little_omega = 'none'\n",
    "        big_omega = 'none'\n",
    "    else:\n",
    "        little_omega = np.arccos(np.dot(n, e) / (mag_n * mag_e)) * (180 / np.pi)\n",
    "        big_omega = np.arccos(np.dot(n, unit_i) / mag_n) * (180 / np.pi)\n",
    "    nu = np.arccos(np.dot(e, r) / (mag_e * mag_r)) * (180 / np.pi)\n",
    "    return (p, mag_e, i, little_omega, big_omega, nu)"
   ]
  },
  {
   "cell_type": "code",
   "execution_count": 92,
   "metadata": {
    "collapsed": false
   },
   "outputs": [
    {
     "ename": "ValueError",
     "evalue": "shapes (3,) and (1,3) not aligned: 3 (dim 0) != 1 (dim 0)",
     "output_type": "error",
     "traceback": [
      "\u001b[0;31m---------------------------------------------------------------------------\u001b[0m",
      "\u001b[0;31mValueError\u001b[0m                                Traceback (most recent call last)",
      "\u001b[0;32m<ipython-input-92-84cc11097145>\u001b[0m in \u001b[0;36m<module>\u001b[0;34m()\u001b[0m\n\u001b[1;32m      1\u001b[0m \u001b[0mr\u001b[0m \u001b[1;33m=\u001b[0m \u001b[0mnp\u001b[0m\u001b[1;33m.\u001b[0m\u001b[0marray\u001b[0m\u001b[1;33m(\u001b[0m\u001b[1;33m[\u001b[0m\u001b[1;33m(\u001b[0m\u001b[1;36m3\u001b[0m \u001b[1;33m*\u001b[0m \u001b[1;36m3\u001b[0m\u001b[1;33m**\u001b[0m\u001b[1;33m(\u001b[0m\u001b[1;36m1\u001b[0m\u001b[1;33m/\u001b[0m\u001b[1;36m2\u001b[0m\u001b[1;33m)\u001b[0m\u001b[1;33m)\u001b[0m \u001b[1;33m/\u001b[0m \u001b[1;36m4\u001b[0m\u001b[1;33m,\u001b[0m \u001b[1;36m3\u001b[0m \u001b[1;33m/\u001b[0m \u001b[1;36m4\u001b[0m\u001b[1;33m,\u001b[0m \u001b[1;36m0\u001b[0m\u001b[1;33m]\u001b[0m\u001b[1;33m)\u001b[0m\u001b[1;33m\u001b[0m\u001b[0m\n\u001b[1;32m      2\u001b[0m \u001b[0mv\u001b[0m \u001b[1;33m=\u001b[0m \u001b[0mnp\u001b[0m\u001b[1;33m.\u001b[0m\u001b[0marray\u001b[0m\u001b[1;33m(\u001b[0m\u001b[1;33m[\u001b[0m\u001b[1;33m(\u001b[0m\u001b[1;33m-\u001b[0m\u001b[1;36m1\u001b[0m \u001b[1;33m/\u001b[0m \u001b[1;33m(\u001b[0m\u001b[1;36m2\u001b[0m \u001b[1;33m*\u001b[0m \u001b[1;36m2\u001b[0m\u001b[1;33m**\u001b[0m\u001b[1;33m(\u001b[0m\u001b[1;36m1\u001b[0m\u001b[1;33m/\u001b[0m\u001b[1;36m2\u001b[0m\u001b[1;33m)\u001b[0m\u001b[1;33m)\u001b[0m\u001b[1;33m,\u001b[0m \u001b[1;36m3\u001b[0m\u001b[1;33m**\u001b[0m\u001b[1;33m(\u001b[0m\u001b[1;36m1\u001b[0m\u001b[1;33m/\u001b[0m\u001b[1;36m2\u001b[0m\u001b[1;33m)\u001b[0m \u001b[1;33m/\u001b[0m \u001b[1;33m(\u001b[0m\u001b[1;36m2\u001b[0m \u001b[1;33m*\u001b[0m \u001b[1;36m2\u001b[0m\u001b[1;33m**\u001b[0m\u001b[1;33m(\u001b[0m\u001b[1;36m1\u001b[0m\u001b[1;33m/\u001b[0m\u001b[1;36m2\u001b[0m\u001b[1;33m)\u001b[0m\u001b[1;33m)\u001b[0m\u001b[1;33m,\u001b[0m \u001b[1;36m1\u001b[0m \u001b[1;33m/\u001b[0m \u001b[1;36m2\u001b[0m\u001b[1;33m**\u001b[0m\u001b[1;33m(\u001b[0m\u001b[1;36m1\u001b[0m\u001b[1;33m/\u001b[0m\u001b[1;36m2\u001b[0m\u001b[1;33m)\u001b[0m\u001b[1;33m)\u001b[0m\u001b[1;33m]\u001b[0m\u001b[1;33m)\u001b[0m\u001b[1;33m\u001b[0m\u001b[0m\n\u001b[0;32m----> 3\u001b[0;31m \u001b[0mp\u001b[0m\u001b[1;33m,\u001b[0m \u001b[0me\u001b[0m\u001b[1;33m,\u001b[0m \u001b[0mi\u001b[0m\u001b[1;33m,\u001b[0m \u001b[0mlittle_omega\u001b[0m\u001b[1;33m,\u001b[0m \u001b[0mbig_omega\u001b[0m\u001b[1;33m,\u001b[0m \u001b[0mnu\u001b[0m \u001b[1;33m=\u001b[0m \u001b[0mconvert_r_v\u001b[0m\u001b[1;33m(\u001b[0m\u001b[0mr\u001b[0m\u001b[1;33m,\u001b[0m \u001b[0mv\u001b[0m\u001b[1;33m)\u001b[0m\u001b[1;33m\u001b[0m\u001b[0m\n\u001b[0m\u001b[1;32m      4\u001b[0m \u001b[0mprint\u001b[0m\u001b[1;33m(\u001b[0m\u001b[1;34m'p = '\u001b[0m\u001b[1;33m,\u001b[0m \u001b[0mp\u001b[0m\u001b[1;33m,\u001b[0m \u001b[1;34m'DU\\ne = '\u001b[0m\u001b[1;33m,\u001b[0m \u001b[0me\u001b[0m\u001b[1;33m,\u001b[0m \u001b[1;34m'\\ni = '\u001b[0m\u001b[1;33m,\u001b[0m \u001b[0mi\u001b[0m\u001b[1;33m,\u001b[0m \u001b[1;34m'\\nlittle omega = '\u001b[0m\u001b[1;33m,\u001b[0m \u001b[0mlittle_omega\u001b[0m\u001b[1;33m,\u001b[0m \u001b[1;34m'\\nbig omega = '\u001b[0m\u001b[1;33m,\u001b[0m \u001b[0mbig_omega\u001b[0m\u001b[1;33m,\u001b[0m \u001b[1;34m'\\nv = '\u001b[0m\u001b[1;33m,\u001b[0m \u001b[0mnu\u001b[0m\u001b[1;33m)\u001b[0m\u001b[1;33m\u001b[0m\u001b[0m\n",
      "\u001b[0;32m<ipython-input-91-6e930a4886b1>\u001b[0m in \u001b[0;36mconvert_r_v\u001b[0;34m(r, v)\u001b[0m\n\u001b[1;32m     11\u001b[0m     \u001b[0mmag_h\u001b[0m \u001b[1;33m=\u001b[0m \u001b[0mnp\u001b[0m\u001b[1;33m.\u001b[0m\u001b[0mlinalg\u001b[0m\u001b[1;33m.\u001b[0m\u001b[0mnorm\u001b[0m\u001b[1;33m(\u001b[0m\u001b[0mh\u001b[0m\u001b[1;33m)\u001b[0m\u001b[1;33m\u001b[0m\u001b[0m\n\u001b[1;32m     12\u001b[0m     \u001b[0mp\u001b[0m \u001b[1;33m=\u001b[0m \u001b[0mmag_h\u001b[0m\u001b[1;33m**\u001b[0m\u001b[1;36m2\u001b[0m\u001b[1;33m\u001b[0m\u001b[0m\n\u001b[0;32m---> 13\u001b[0;31m     \u001b[0me\u001b[0m \u001b[1;33m=\u001b[0m \u001b[1;33m(\u001b[0m\u001b[1;36m1\u001b[0m \u001b[1;33m/\u001b[0m \u001b[0mmu\u001b[0m\u001b[1;33m)\u001b[0m \u001b[1;33m*\u001b[0m \u001b[1;33m(\u001b[0m\u001b[1;33m(\u001b[0m\u001b[1;33m(\u001b[0m\u001b[0mmag_v\u001b[0m\u001b[1;33m**\u001b[0m\u001b[1;36m2\u001b[0m \u001b[1;33m-\u001b[0m \u001b[1;33m(\u001b[0m\u001b[0mmu\u001b[0m \u001b[1;33m/\u001b[0m \u001b[0mmag_r\u001b[0m\u001b[1;33m)\u001b[0m\u001b[1;33m)\u001b[0m \u001b[1;33m*\u001b[0m \u001b[0mr\u001b[0m\u001b[1;33m)\u001b[0m \u001b[1;33m-\u001b[0m \u001b[1;33m(\u001b[0m\u001b[0mnp\u001b[0m\u001b[1;33m.\u001b[0m\u001b[0mdot\u001b[0m\u001b[1;33m(\u001b[0m\u001b[0mr\u001b[0m\u001b[1;33m,\u001b[0m \u001b[0mv\u001b[0m\u001b[1;33m)\u001b[0m \u001b[1;33m*\u001b[0m \u001b[0mv\u001b[0m\u001b[1;33m)\u001b[0m\u001b[1;33m)\u001b[0m\u001b[1;33m\u001b[0m\u001b[0m\n\u001b[0m\u001b[1;32m     14\u001b[0m     \u001b[0mmag_e\u001b[0m \u001b[1;33m=\u001b[0m \u001b[0mnp\u001b[0m\u001b[1;33m.\u001b[0m\u001b[0mlinalg\u001b[0m\u001b[1;33m.\u001b[0m\u001b[0mnorm\u001b[0m\u001b[1;33m(\u001b[0m\u001b[0me\u001b[0m\u001b[1;33m)\u001b[0m\u001b[1;33m\u001b[0m\u001b[0m\n\u001b[1;32m     15\u001b[0m     \u001b[0mi\u001b[0m \u001b[1;33m=\u001b[0m \u001b[0mnp\u001b[0m\u001b[1;33m.\u001b[0m\u001b[0marccos\u001b[0m\u001b[1;33m(\u001b[0m\u001b[1;33m(\u001b[0m\u001b[0mnp\u001b[0m\u001b[1;33m.\u001b[0m\u001b[0mdot\u001b[0m\u001b[1;33m(\u001b[0m\u001b[0mh\u001b[0m\u001b[1;33m,\u001b[0m \u001b[0munit_k\u001b[0m\u001b[1;33m)\u001b[0m\u001b[1;33m)\u001b[0m \u001b[1;33m/\u001b[0m \u001b[0mmag_h\u001b[0m\u001b[1;33m)\u001b[0m \u001b[1;33m*\u001b[0m \u001b[1;33m(\u001b[0m\u001b[1;36m180\u001b[0m \u001b[1;33m/\u001b[0m \u001b[0mnp\u001b[0m\u001b[1;33m.\u001b[0m\u001b[0mpi\u001b[0m\u001b[1;33m)\u001b[0m\u001b[1;33m\u001b[0m\u001b[0m\n",
      "\u001b[0;31mValueError\u001b[0m: shapes (3,) and (1,3) not aligned: 3 (dim 0) != 1 (dim 0)"
     ]
    }
   ],
   "source": [
    "r = np.array([(3 * 3**(1/2)) / 4, 3 / 4, 0])\n",
    "v = np.array([(-1 / (2 * 2**(1/2)), 3**(1/2) / (2 * 2**(1/2)), 1 / 2**(1/2))])\n",
    "p, e, i, little_omega, big_omega, nu = convert_r_v(r, v)\n",
    "print('p = ', p, 'DU\\ne = ', e, '\\ni = ', i, '\\nlittle omega = ', little_omega, '\\nbig omega = ', big_omega, '\\nv = ', nu)"
   ]
  },
  {
   "cell_type": "code",
   "execution_count": 79,
   "metadata": {
    "collapsed": false
   },
   "outputs": [],
   "source": [
    "def convert_orbital_perifocal(p, e, nu): # converts orbital elements into position and velocity vectors in the perifocal frame\n",
    "    mu = 1\n",
    "    mag_r = p / (1 + (e * np.cos(nu)))\n",
    "    r = np.array([mag_r * np.cos(nu), mag_r * np.sin(nu), 0])\n",
    "    v = np.array([((mu / p) ** (1 / 2)) * (-1 * np.sin(nu)), ((mu / p) ** (1 / 2)) * (e + np.cos(nu)), 0])\n",
    "    return r, v"
   ]
  },
  {
   "cell_type": "code",
   "execution_count": 80,
   "metadata": {
    "collapsed": false
   },
   "outputs": [
    {
     "name": "stdout",
     "output_type": "stream",
     "text": [
      "r =  [ 2.  0.  0.] \n",
      "v =  [-0.  1.  0.]\n"
     ]
    }
   ],
   "source": [
    "r, v = convert_orbital_perifocal(p, e, nu)\n",
    "print ('r = ', r, '\\nv = ', v)"
   ]
  },
  {
   "cell_type": "code",
   "execution_count": 83,
   "metadata": {
    "collapsed": true
   },
   "outputs": [],
   "source": [
    "def convert_orbital_geocentric(p, e, i, little_omega, big_omega, nu): # converts orbital elements into perifocal then geocentric\n",
    "    r, v = convert_orbital_perifocal(p, e, nu)\n",
    "    if big_omega == 'none' or little_omega == 'none':\n",
    "        return r, v\n",
    "    else:\n",
    "        trans_matrix = np.array([[(np.cos(big_omega) * np.cos(little_omega)) - (np.sin(big_omega) * np.sin(little_omega) * np.cos(i)),\n",
    "                             (-1 * np.cos(big_omega) * np.sin(little_omega)) - (np.sin(big_omega) * np.cos(little_omega) * np.cos(i)),\n",
    "                             np.sin(big_omega) * np.sin(i)],\n",
    "                             [(np.sin(big_omega) * np.cos(little_omega)) + (np.cos(big_omega) * np.sin(little_omega) * np.cos(i)),\n",
    "                             (-1 * np.sin(big_omega) * np.sin(little_omega)) + (np.cos(big_omega) * np.cos(little_omega) * np.cos(i)),\n",
    "                             -1 * np.cos(big_omega) * np.sin(i)],[np.sin(little_omega) * np.sin(i), np.cos(little_omega) * np.sin(i),\n",
    "                                                                 np.cos(i)]])\n",
    "        r = np.cross(trans_matrix, r)\n",
    "        v = np.cross(trans_matrix, v)\n",
    "    return r, v"
   ]
  },
  {
   "cell_type": "code",
   "execution_count": 87,
   "metadata": {
    "collapsed": false
   },
   "outputs": [
    {
     "name": "stdout",
     "output_type": "stream",
     "text": [
      "r =  [ 2.  0.  0.] \n",
      "v =  [-0.  1.  0.]\n"
     ]
    }
   ],
   "source": [
    "r, v = convert_orbital_geocentric(p, e, i, little_omega, big_omega, nu)\n",
    "print ('r = ', r, '\\nv = ', v)"
   ]
  },
  {
   "cell_type": "code",
   "execution_count": null,
   "metadata": {
    "collapsed": true
   },
   "outputs": [],
   "source": []
  }
 ],
 "metadata": {
  "anaconda-cloud": {},
  "kernelspec": {
   "display_name": "Python [default]",
   "language": "python",
   "name": "python3"
  },
  "language_info": {
   "codemirror_mode": {
    "name": "ipython",
    "version": 3
   },
   "file_extension": ".py",
   "mimetype": "text/x-python",
   "name": "python",
   "nbconvert_exporter": "python",
   "pygments_lexer": "ipython3",
   "version": "3.5.2"
  }
 },
 "nbformat": 4,
 "nbformat_minor": 1
}
