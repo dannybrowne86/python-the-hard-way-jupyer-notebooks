{
 "cells": [
  {
   "cell_type": "code",
   "execution_count": 1,
   "metadata": {
    "collapsed": true
   },
   "outputs": [],
   "source": [
    "# converting orbital elements into r and v, and vice versa"
   ]
  },
  {
   "cell_type": "code",
   "execution_count": 2,
   "metadata": {
    "collapsed": true
   },
   "outputs": [],
   "source": [
    "# -*- coding: utf-8 -*-\n",
    "import numpy as np\n",
    "import scipy as sp"
   ]
  },
  {
   "cell_type": "code",
   "execution_count": 63,
   "metadata": {
    "collapsed": false
   },
   "outputs": [],
   "source": [
    "def convert_r_v(r, v): # converts position and velocity vectors, r and v, into orbital elements\n",
    "    unit_i = np.array([1, 0, 0])\n",
    "    unit_j = np.array([0, 1, 0])\n",
    "    unit_k = np.array([0, 0, 1])\n",
    "    mag_r = np.linalg.norm(r)\n",
    "    mag_v = np.linalg.norm(v)\n",
    "    mu = 1\n",
    "    h = np.cross(r, v)\n",
    "    n = np.cross(unit_k, h)\n",
    "    mag_n = np.linalg.norm(n)\n",
    "    mag_h = np.linalg.norm(h)\n",
    "    p = mag_h**2\n",
    "    e = (1 / mu) * ((r * (mag_v**2 - (mu / mag_r))) - (v * np.dot(r, v)))\n",
    "    mag_e = np.linalg.norm(e)\n",
    "    i = np.arccos((np.dot(h, unit_k)) / mag_h) * (180 / np.pi)\n",
    "    if mag_n == 0:\n",
    "        little_omega = 'none'\n",
    "        big_omega = 'none'\n",
    "    else:\n",
    "        little_omega = np.arccos(np.dot(n, e) / (mag_n * mag_e)) * (180 / np.pi)\n",
    "        big_omega = np.arccos(np.dot(n, unit_i) / mag_n) * (180 / np.pi)\n",
    "    nu = np.arccos(np.dot(e, r) / (mag_e * mag_r)) * (180 / np.pi)\n",
    "    return (p, mag_e, i, little_omega, big_omega, nu)"
   ]
  },
  {
   "cell_type": "code",
   "execution_count": 64,
   "metadata": {
    "collapsed": false
   },
   "outputs": [
    {
     "name": "stdout",
     "output_type": "stream",
     "text": [
      "p =  2.25 DU\n",
      "e =  0.5 \n",
      "i =  45.0 \n",
      "little omega =  0.0 \n",
      "big omega =  30.0 \n",
      "v =  0.0\n"
     ]
    }
   ],
   "source": [
    "r = np.array([3 * 3**(1/2) / 4, 3 / 4, 0])\n",
    "v = np.array([-1 / (2 * 2**(1/2)), 3**(1/2) / (2 * 2**(1/2)), 1 / 2**(1/2)])\n",
    "p, e, i, little_omega, big_omega, nu = convert_r_v(r, v)\n",
    "print('p = ', p, 'DU\\ne = ', e, '\\ni = ', i, '\\nlittle omega = ', little_omega, '\\nbig omega = ', big_omega, '\\nv = ', nu)"
   ]
  },
  {
   "cell_type": "code",
   "execution_count": 65,
   "metadata": {
    "collapsed": false
   },
   "outputs": [],
   "source": [
    "def convert_orbital_perifocal(p, e, nu): # converts orbital elements into position and velocity vectors in the perifocal frame\n",
    "    mu = 1\n",
    "    mag_r = p / (1 + (e * np.cos(nu)))\n",
    "    r = np.array([mag_r * np.cos(nu), mag_r * np.sin(nu), 0])\n",
    "    v = np.array([((mu / p) ** (1 / 2)) * (-1 * np.sin(nu)), ((mu / p) ** (1 / 2)) * (e + np.cos(nu)), 0])\n",
    "    return r, v"
   ]
  },
  {
   "cell_type": "code",
   "execution_count": 66,
   "metadata": {
    "collapsed": false
   },
   "outputs": [
    {
     "name": "stdout",
     "output_type": "stream",
     "text": [
      "r =  [ 1.5  0.   0. ] \n",
      "v =  [-0.  1.  0.]\n"
     ]
    }
   ],
   "source": [
    "r, v = convert_orbital_perifocal(p, e, nu)\n",
    "print ('r = ', r, '\\nv = ', v)"
   ]
  },
  {
   "cell_type": "code",
   "execution_count": 67,
   "metadata": {
    "collapsed": true
   },
   "outputs": [],
   "source": [
    "def convert_orbital_geocentric(p, e, i, little_omega, big_omega, nu): # converts orbital elements into perifocal then geocentric\n",
    "    r, v = convert_orbital_perifocal(p, e, nu)\n",
    "    if big_omega == 'none' or little_omega == 'none':\n",
    "        return r, v\n",
    "    else:\n",
    "        trans_matrix = np.array([[(np.cos(big_omega) * np.cos(little_omega)) - (np.sin(big_omega) * np.sin(little_omega) * np.cos(i)),\n",
    "                                  (-1 * np.cos(big_omega) * np.sin(little_omega)) - (np.sin(big_omega) * np.cos(little_omega) * np.cos(i)),\n",
    "                                  np.sin(big_omega) * np.sin(i)],\n",
    "                                 [(np.sin(big_omega) * np.cos(little_omega)) + (np.cos(big_omega) * np.sin(little_omega) * np.cos(i)),\n",
    "                                  (-1 * np.sin(big_omega) * np.sin(little_omega)) + (np.cos(big_omega) * np.cos(little_omega) * np.cos(i)),\n",
    "                                  -1 * np.cos(big_omega) * np.sin(i)],\n",
    "                                 [np.sin(little_omega) * np.sin(i), np.cos(little_omega) * np.sin(i), np.cos(i)]])\n",
    "        r = trans_matrix * r\n",
    "        v = trans_matrix * v\n",
    "    return r, v"
   ]
  },
  {
   "cell_type": "code",
   "execution_count": 68,
   "metadata": {
    "collapsed": false
   },
   "outputs": [
    {
     "name": "stdout",
     "output_type": "stream",
     "text": [
      "r =  [[ 0.23137717  0.         -0.        ]\n",
      " [-1.48204744  0.         -0.        ]\n",
      " [ 0.          0.          0.        ]] \n",
      "v =  [[-0.          0.51903474 -0.        ]\n",
      " [ 0.          0.08103168 -0.        ]\n",
      " [-0.          0.85090352  0.        ]]\n"
     ]
    }
   ],
   "source": [
    "r, v = convert_orbital_geocentric(p, e, i, little_omega, big_omega, nu)\n",
    "print ('r = ', r, '\\nv = ', v)"
   ]
  }
 ],
 "metadata": {
  "anaconda-cloud": {},
  "kernelspec": {
   "display_name": "Python [default]",
   "language": "python",
   "name": "python3"
  },
  "language_info": {
   "codemirror_mode": {
    "name": "ipython",
    "version": 3
   },
   "file_extension": ".py",
   "mimetype": "text/x-python",
   "name": "python",
   "nbconvert_exporter": "python",
   "pygments_lexer": "ipython3",
   "version": "3.5.2"
  }
 },
 "nbformat": 4,
 "nbformat_minor": 1
}
