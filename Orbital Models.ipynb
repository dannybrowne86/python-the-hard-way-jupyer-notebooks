{
 "cells": [
  {
   "cell_type": "code",
   "execution_count": 1,
   "metadata": {
    "collapsed": true
   },
   "outputs": [],
   "source": [
    "# model orbits with python and jupyter widgets"
   ]
  },
  {
   "cell_type": "code",
   "execution_count": 26,
   "metadata": {
    "collapsed": true
   },
   "outputs": [],
   "source": [
    "# -*- coding: utf-8 -*-\n",
    "import numpy as np\n",
    "import scipy as sp\n",
    "from __future__ import print_function\n",
    "from ipywidgets import interact, interactive, fixed\n",
    "import ipywidgets as widgets\n",
    "\n",
    "def convert_r_v(r, v): # converts position and velocity vectors, r and v, into orbital elements\n",
    "    unit_i = np.array([1, 0, 0])\n",
    "    unit_j = np.array([0, 1, 0])\n",
    "    unit_k = np.array([0, 0, 1])\n",
    "    mag_r = np.linalg.norm(r)\n",
    "    mag_v = np.linalg.norm(v)\n",
    "    mu = 1\n",
    "    h = np.cross(r, v)\n",
    "    n = np.cross(unit_k, h)\n",
    "    mag_n = np.linalg.norm(n)\n",
    "    mag_h = np.linalg.norm(h)\n",
    "    p = mag_h**2\n",
    "    e = (1 / mu) * ((r * (mag_v**2 - (mu / mag_r))) - (v * np.dot(r, v)))\n",
    "    mag_e = np.linalg.norm(e)\n",
    "    i = np.arccos((np.dot(h, unit_k)) / mag_h)\n",
    "    if mag_n == 0:\n",
    "        little_omega = 'none'\n",
    "        big_omega = 'none'\n",
    "    else:\n",
    "        little_omega = np.arccos(np.dot(n, e) / (mag_n * mag_e))\n",
    "        big_omega = np.arccos(np.dot(n, unit_i) / mag_n)\n",
    "    nu = np.arccos(np.dot(e, r) / (mag_e * mag_r))\n",
    "    return (p, mag_e, i, little_omega, big_omega, nu)\n",
    "\n",
    "def convert_orbital_perifocal(p, e, nu): # converts orbital elements into position and velocity vectors in the perifocal frame\n",
    "    mu = 1\n",
    "    mag_r = p / (1 + (e * np.cos(nu)))\n",
    "    r = np.array([mag_r * np.cos(nu), mag_r * np.sin(nu), 0])\n",
    "    v = np.array([((mu / p) ** (1 / 2)) * (-1 * np.sin(nu)), ((mu / p) ** (1 / 2)) * (e + np.cos(nu)), 0])\n",
    "    return r, v\n",
    "\n",
    "def convert_orbital_geocentric(p, e, i, little_omega, big_omega, nu): # converts orbital elements into perifocal then geocentric\n",
    "    r, v = convert_orbital_perifocal(p, e, nu)\n",
    "    if big_omega == 'none' or little_omega == 'none':\n",
    "        return r, v\n",
    "    else:\n",
    "        trans_matrix = np.array([[(np.cos(big_omega) * np.cos(little_omega)) - (np.sin(big_omega) * np.sin(little_omega) * np.cos(i)),\n",
    "                                  (-1 * np.cos(big_omega) * np.sin(little_omega)) - (np.sin(big_omega) * np.cos(little_omega) * np.cos(i)),\n",
    "                                  np.sin(big_omega) * np.sin(i)],\n",
    "                                 [(np.sin(big_omega) * np.cos(little_omega)) + (np.cos(big_omega) * np.sin(little_omega) * np.cos(i)),\n",
    "                                  (-1 * np.sin(big_omega) * np.sin(little_omega)) + (np.cos(big_omega) * np.cos(little_omega) * np.cos(i)),\n",
    "                                  -1 * np.cos(big_omega) * np.sin(i)],\n",
    "                                 [np.sin(little_omega) * np.sin(i), np.cos(little_omega) * np.sin(i), np.cos(i)]])\n",
    "        r = np.dot(r, np.transpose(trans_matrix))\n",
    "        v = np.dot(v, np.transpose(trans_matrix))\n",
    "    print ('r', r)\n",
    "    print ('v', v)"
   ]
  },
  {
   "cell_type": "code",
   "execution_count": 28,
   "metadata": {
    "collapsed": false
   },
   "outputs": [
    {
     "name": "stdout",
     "output_type": "stream",
     "text": [
      "r [ 4.2245036  -2.52565496 -0.12266599]\n",
      "v [ 0.24295682  0.49272251  0.04261599]\n"
     ]
    }
   ],
   "source": [
    "interact(convert_orbital_geocentric, p = (0.01, 15), e = (0.0, 1.0), i = (0, 359), little_omega = (0, 359), big_omega = (0, 359), nu = (0, 359))"
   ]
  },
  {
   "cell_type": "code",
   "execution_count": null,
   "metadata": {
    "collapsed": true
   },
   "outputs": [],
   "source": []
  }
 ],
 "metadata": {
  "kernelspec": {
   "display_name": "Python [default]",
   "language": "python",
   "name": "python3"
  },
  "language_info": {
   "codemirror_mode": {
    "name": "ipython",
    "version": 3
   },
   "file_extension": ".py",
   "mimetype": "text/x-python",
   "name": "python",
   "nbconvert_exporter": "python",
   "pygments_lexer": "ipython3",
   "version": "3.5.2"
  },
  "widgets": {
   "state": {
    "d13ef3d97a6b4fa8b5b3b541044bf96c": {
     "views": [
      {
       "cell_index": 2
      }
     ]
    }
   },
   "version": "1.2.0"
  }
 },
 "nbformat": 4,
 "nbformat_minor": 1
}
